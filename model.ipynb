{
  "cells": [
    {
      "cell_type": "code",
      "execution_count": null,
      "metadata": {
        "execution": {
          "iopub.execute_input": "2023-01-27T12:17:04.005140Z",
          "iopub.status.busy": "2023-01-27T12:17:04.004396Z",
          "iopub.status.idle": "2023-01-27T12:17:09.593040Z",
          "shell.execute_reply": "2023-01-27T12:17:09.591938Z",
          "shell.execute_reply.started": "2023-01-27T12:17:04.005102Z"
        },
        "id": "1w7PIlQw8uyh",
        "trusted": true
      },
      "outputs": [],
      "source": [
        "from PIL import Image\n",
        "import cv2\n",
        "import matplotlib.pyplot as plt1\n",
        "import tensorflow as tf\n",
        "from tensorflow import keras\n",
        "from tensorflow.keras import layers\n",
        "from tensorflow.keras.preprocessing.image import ImageDataGenerator\n",
        "import os\n",
        "import tqdm\n",
        "import numpy as np\n",
        "from keras import callbacks"
      ]
    },
    {
      "cell_type": "code",
      "execution_count": null,
      "metadata": {
        "collapsed": true,
        "execution": {
          "iopub.execute_input": "2023-01-27T11:42:07.158248Z",
          "iopub.status.busy": "2023-01-27T11:42:07.157852Z",
          "iopub.status.idle": "2023-01-27T11:42:08.949925Z",
          "shell.execute_reply": "2023-01-27T11:42:08.948590Z",
          "shell.execute_reply.started": "2023-01-27T11:42:07.158216Z"
        },
        "id": "Vmj7fuQy8uyn",
        "jupyter": {
          "outputs_hidden": true
        },
        "outputId": "60fd4daf-6d03-4b47-cd33-4e4a88af76ed",
        "trusted": true
      },
      "outputs": [],
      "source": [
        "!unzip -q  /kaggle/input/carvana-image-masking-challenge/train_masks.zip -d train_mask"
      ]
    },
    {
      "cell_type": "code",
      "execution_count": null,
      "metadata": {
        "execution": {
          "iopub.execute_input": "2023-01-27T11:42:18.683598Z",
          "iopub.status.busy": "2023-01-27T11:42:18.680967Z",
          "iopub.status.idle": "2023-01-27T11:42:18.691577Z",
          "shell.execute_reply": "2023-01-27T11:42:18.690373Z",
          "shell.execute_reply.started": "2023-01-27T11:42:18.683562Z"
        },
        "id": "tUg5W7bw8uyp",
        "trusted": true
      },
      "outputs": [],
      "source": [
        "os.mkdir('/kaggle/working/input_mask')"
      ]
    },
    {
      "cell_type": "code",
      "execution_count": null,
      "metadata": {
        "execution": {
          "iopub.execute_input": "2023-01-27T12:05:25.904588Z",
          "iopub.status.busy": "2023-01-27T12:05:25.901943Z",
          "iopub.status.idle": "2023-01-27T12:05:25.910660Z",
          "shell.execute_reply": "2023-01-27T12:05:25.909550Z",
          "shell.execute_reply.started": "2023-01-27T12:05:25.904547Z"
        },
        "id": "RYGyQWkC8uyq",
        "trusted": true
      },
      "outputs": [],
      "source": [
        "input_path = '/kaggle/working/train_mask/train_masks/'\n",
        "output_path = '/kaggle/working/input_mask/'"
      ]
    },
    {
      "cell_type": "code",
      "execution_count": null,
      "metadata": {
        "execution": {
          "iopub.execute_input": "2023-01-27T11:42:18.719328Z",
          "iopub.status.busy": "2023-01-27T11:42:18.718808Z",
          "iopub.status.idle": "2023-01-27T11:46:46.397449Z",
          "shell.execute_reply": "2023-01-27T11:46:46.396371Z",
          "shell.execute_reply.started": "2023-01-27T11:42:18.719276Z"
        },
        "id": "a2uis-nw8uyr",
        "outputId": "cd225b11-f16c-44ab-c827-a58f8546b63d",
        "trusted": true
      },
      "outputs": [
        {
          "name": "stderr",
          "output_type": "stream",
          "text": [
            "100%|██████████| 5088/5088 [04:27<00:00, 19.01it/s]\n"
          ]
        }
      ],
      "source": [
        "for img in tqdm.tqdm(os.listdir(input_path)):\n",
        "    name = img[:-9]\n",
        "    image = Image.open(input_path+img).convert('RGB')\n",
        "    image.save(f'{output_path}{name}.jpg')"
      ]
    },
    {
      "cell_type": "code",
      "execution_count": null,
      "metadata": {
        "execution": {
          "iopub.execute_input": "2023-01-27T12:17:13.884595Z",
          "iopub.status.busy": "2023-01-27T12:17:13.883926Z",
          "iopub.status.idle": "2023-01-27T12:17:13.889405Z",
          "shell.execute_reply": "2023-01-27T12:17:13.888248Z",
          "shell.execute_reply.started": "2023-01-27T12:17:13.884556Z"
        },
        "id": "-dzEbdgF8uyr",
        "trusted": true
      },
      "outputs": [],
      "source": [
        "input_image_path = '/kaggle/working/train_images/train/'\n",
        "input_mask_path = '/kaggle/working/input_mask/'"
      ]
    },
    {
      "cell_type": "code",
      "execution_count": null,
      "metadata": {
        "execution": {
          "iopub.execute_input": "2023-01-27T12:17:14.098839Z",
          "iopub.status.busy": "2023-01-27T12:17:14.098528Z",
          "iopub.status.idle": "2023-01-27T12:17:14.128357Z",
          "shell.execute_reply": "2023-01-27T12:17:14.127502Z",
          "shell.execute_reply.started": "2023-01-27T12:17:14.098812Z"
        },
        "id": "meG9gLDb8uys",
        "outputId": "fefb2e5e-18ca-474c-a9e6-c9049ad8ad31",
        "trusted": true
      },
      "outputs": [
        {
          "data": {
            "text/plain": [
              "5088"
            ]
          },
          "execution_count": 5,
          "metadata": {},
          "output_type": "execute_result"
        }
      ],
      "source": [
        "len(os.listdir(input_mask_path))"
      ]
    },
    {
      "cell_type": "code",
      "execution_count": null,
      "metadata": {
        "execution": {
          "iopub.execute_input": "2023-01-27T12:17:16.221429Z",
          "iopub.status.busy": "2023-01-27T12:17:16.221030Z",
          "iopub.status.idle": "2023-01-27T12:20:51.083448Z",
          "shell.execute_reply": "2023-01-27T12:20:51.082373Z",
          "shell.execute_reply.started": "2023-01-27T12:17:16.221394Z"
        },
        "id": "Mz-BUTtC8uyt",
        "outputId": "b731153e-cbc8-4a85-b6da-9edd94724e4b",
        "trusted": true
      },
      "outputs": [
        {
          "name": "stderr",
          "output_type": "stream",
          "text": [
            "100%|██████████| 5088/5088 [03:34<00:00, 23.68it/s]\n"
          ]
        }
      ],
      "source": [
        "# create empty lists to store the input and output images\n",
        "X = []\n",
        "Y = []\n",
        "\n",
        "# loop through the input images in the directory\n",
        "for input_image in tqdm.tqdm(os.listdir(input_image_path)):\n",
        "    # read the input image using cv2\n",
        "    img = cv2.resize(cv2.imread(os.path.join(input_image_path, input_image)), (224,224), cv2.INTER_CUBIC)\n",
        "    # append the input image to the x list\n",
        "    X.append(np.array(img))\n",
        "\n",
        "    # read the corresponding output image using cv2\n",
        "    img = cv2.resize(cv2.imread(os.path.join(input_mask_path, input_image)), (224,224), cv2.INTER_CUBIC)\n",
        "    # append the output image to the y list\n",
        "    Y.append(np.array(img))\n"
      ]
    },
    {
      "cell_type": "code",
      "execution_count": null,
      "metadata": {
        "execution": {
          "iopub.execute_input": "2023-01-27T12:21:01.695326Z",
          "iopub.status.busy": "2023-01-27T12:21:01.694922Z",
          "iopub.status.idle": "2023-01-27T12:21:02.234331Z",
          "shell.execute_reply": "2023-01-27T12:21:02.233270Z",
          "shell.execute_reply.started": "2023-01-27T12:21:01.695294Z"
        },
        "id": "EPELay8D8uyu",
        "trusted": true
      },
      "outputs": [],
      "source": [
        "X = np.array(X)\n",
        "Y = np.array(Y)"
      ]
    },
    {
      "cell_type": "code",
      "execution_count": null,
      "metadata": {
        "execution": {
          "iopub.execute_input": "2023-01-27T12:21:02.236950Z",
          "iopub.status.busy": "2023-01-27T12:21:02.236210Z",
          "iopub.status.idle": "2023-01-27T12:21:02.243546Z",
          "shell.execute_reply": "2023-01-27T12:21:02.242496Z",
          "shell.execute_reply.started": "2023-01-27T12:21:02.236918Z"
        },
        "id": "HzOgbxSN8uyv",
        "outputId": "04e66135-478c-41d7-b402-c55c861de2dd",
        "trusted": true
      },
      "outputs": [
        {
          "data": {
            "text/plain": [
              "(5088, 224, 224, 3)"
            ]
          },
          "execution_count": 8,
          "metadata": {},
          "output_type": "execute_result"
        }
      ],
      "source": [
        "X.shape"
      ]
    },
    {
      "cell_type": "code",
      "execution_count": null,
      "metadata": {
        "execution": {
          "iopub.execute_input": "2023-01-27T12:21:02.900296Z",
          "iopub.status.busy": "2023-01-27T12:21:02.899621Z",
          "iopub.status.idle": "2023-01-27T12:21:02.906096Z",
          "shell.execute_reply": "2023-01-27T12:21:02.905152Z",
          "shell.execute_reply.started": "2023-01-27T12:21:02.900259Z"
        },
        "id": "nj_5Qy1R8uyw",
        "outputId": "e8335d00-204d-44b6-c0ef-2ec3b123d3f6",
        "trusted": true
      },
      "outputs": [
        {
          "data": {
            "text/plain": [
              "(5088, 224, 224, 3)"
            ]
          },
          "execution_count": 9,
          "metadata": {},
          "output_type": "execute_result"
        }
      ],
      "source": [
        "Y.shape"
      ]
    },
    {
      "cell_type": "code",
      "execution_count": null,
      "metadata": {
        "execution": {
          "iopub.execute_input": "2023-01-27T12:21:37.995786Z",
          "iopub.status.busy": "2023-01-27T12:21:37.995060Z",
          "iopub.status.idle": "2023-01-27T12:21:38.617363Z",
          "shell.execute_reply": "2023-01-27T12:21:38.616265Z",
          "shell.execute_reply.started": "2023-01-27T12:21:37.995737Z"
        },
        "id": "SUT5eNNC8uyx",
        "trusted": true
      },
      "outputs": [],
      "source": [
        "# U-Net Xception style model\n",
        "image_size = (224,224,3)\n",
        "inputs = keras.Input(shape = image_size)\n",
        "\n",
        "# entry block\n",
        "x = layers.Conv2D(32,3,strides = 2,padding = 'same')(inputs)\n",
        "x = layers.BatchNormalization()(x)\n",
        "x = layers.Activation('relu')(x)\n",
        "previous_block_activation = x  # sed aside residual\n",
        "\n",
        "# blocks 1,2,3 are identical apart from the feature depth\n",
        "for filters in [64,128,256]:\n",
        "    x = layers.Activation('relu')(x)\n",
        "    x = layers.SeparableConv2D(filters, 3, padding = 'same')(x)\n",
        "    x = layers.BatchNormalization()(x)\n",
        "    \n",
        "    x = layers.Activation('relu')(x)\n",
        "    x = layers.SeparableConv2D(filters, 3, padding = 'same')(x)\n",
        "    x = layers.BatchNormalization()(x)\n",
        "    \n",
        "    x = layers.MaxPooling2D(3, strides= 2, padding = 'same')(x)\n",
        "    \n",
        "    # project residual \n",
        "    residual = layers.Conv2D(filters, 1, strides = 2, padding = 'same')(previous_block_activation)\n",
        "    x = layers.add([x,residual])  # add block residual\n",
        "    previous_block_activation = x  # set aside next residual\n",
        "    \n",
        "# second half of the network : upsampling inputs\n",
        "for filters in [256,128,64,32]:\n",
        "    x = layers.Activation('relu')(x)\n",
        "    x = layers.Conv2DTranspose(filters, 3, padding = 'same')(x)\n",
        "    x = layers.BatchNormalization()(x)\n",
        "    \n",
        "    x = layers.Activation('relu')(x)\n",
        "    x = layers.Conv2DTranspose(filters, 3, padding = 'same')(x)\n",
        "    x = layers.BatchNormalization()(x)\n",
        "    \n",
        "    x = layers.UpSampling2D(2)(x)\n",
        "    \n",
        "    # project residual \n",
        "    residual = layers.UpSampling2D(2)(previous_block_activation)\n",
        "    residual = layers.Conv2D(filters, 1, padding='same')(residual)\n",
        "    x = layers.add([x,residual])   # add back residuals\n",
        "    previous_block_activation = x   # set aside next residual\n",
        "    \n",
        "# output layers \n",
        "outputs = layers.Conv2D(3,3, activation= 'relu', padding = 'same')(x)\n",
        "\n",
        "# define the model\n",
        "model = keras.Model(inputs, outputs)\n",
        "# free up ram in case the model definition cells were run multiple times\n",
        "keras.backend.clear_session()\n"
      ]
    },
    {
      "cell_type": "code",
      "execution_count": null,
      "metadata": {
        "execution": {
          "iopub.execute_input": "2023-01-27T12:21:38.830950Z",
          "iopub.status.busy": "2023-01-27T12:21:38.830472Z",
          "iopub.status.idle": "2023-01-27T12:21:38.852058Z",
          "shell.execute_reply": "2023-01-27T12:21:38.850899Z",
          "shell.execute_reply.started": "2023-01-27T12:21:38.830903Z"
        },
        "id": "FTAFMhwX8uyy",
        "outputId": "29cd31a6-8a9f-4118-f07b-e34f26211159",
        "trusted": true
      },
      "outputs": [
        {
          "name": "stdout",
          "output_type": "stream",
          "text": [
            "Model: \"model\"\n",
            "__________________________________________________________________________________________________\n",
            "Layer (type)                    Output Shape         Param #     Connected to                     \n",
            "==================================================================================================\n",
            "input_1 (InputLayer)            [(None, 224, 224, 3) 0                                            \n",
            "__________________________________________________________________________________________________\n",
            "conv2d (Conv2D)                 (None, 112, 112, 32) 896         input_1[0][0]                    \n",
            "__________________________________________________________________________________________________\n",
            "batch_normalization (BatchNorma (None, 112, 112, 32) 128         conv2d[0][0]                     \n",
            "__________________________________________________________________________________________________\n",
            "activation (Activation)         (None, 112, 112, 32) 0           batch_normalization[0][0]        \n",
            "__________________________________________________________________________________________________\n",
            "activation_1 (Activation)       (None, 112, 112, 32) 0           activation[0][0]                 \n",
            "__________________________________________________________________________________________________\n",
            "separable_conv2d (SeparableConv (None, 112, 112, 64) 2400        activation_1[0][0]               \n",
            "__________________________________________________________________________________________________\n",
            "batch_normalization_1 (BatchNor (None, 112, 112, 64) 256         separable_conv2d[0][0]           \n",
            "__________________________________________________________________________________________________\n",
            "activation_2 (Activation)       (None, 112, 112, 64) 0           batch_normalization_1[0][0]      \n",
            "__________________________________________________________________________________________________\n",
            "separable_conv2d_1 (SeparableCo (None, 112, 112, 64) 4736        activation_2[0][0]               \n",
            "__________________________________________________________________________________________________\n",
            "batch_normalization_2 (BatchNor (None, 112, 112, 64) 256         separable_conv2d_1[0][0]         \n",
            "__________________________________________________________________________________________________\n",
            "max_pooling2d (MaxPooling2D)    (None, 56, 56, 64)   0           batch_normalization_2[0][0]      \n",
            "__________________________________________________________________________________________________\n",
            "conv2d_1 (Conv2D)               (None, 56, 56, 64)   2112        activation[0][0]                 \n",
            "__________________________________________________________________________________________________\n",
            "add (Add)                       (None, 56, 56, 64)   0           max_pooling2d[0][0]              \n",
            "                                                                 conv2d_1[0][0]                   \n",
            "__________________________________________________________________________________________________\n",
            "activation_3 (Activation)       (None, 56, 56, 64)   0           add[0][0]                        \n",
            "__________________________________________________________________________________________________\n",
            "separable_conv2d_2 (SeparableCo (None, 56, 56, 128)  8896        activation_3[0][0]               \n",
            "__________________________________________________________________________________________________\n",
            "batch_normalization_3 (BatchNor (None, 56, 56, 128)  512         separable_conv2d_2[0][0]         \n",
            "__________________________________________________________________________________________________\n",
            "activation_4 (Activation)       (None, 56, 56, 128)  0           batch_normalization_3[0][0]      \n",
            "__________________________________________________________________________________________________\n",
            "separable_conv2d_3 (SeparableCo (None, 56, 56, 128)  17664       activation_4[0][0]               \n",
            "__________________________________________________________________________________________________\n",
            "batch_normalization_4 (BatchNor (None, 56, 56, 128)  512         separable_conv2d_3[0][0]         \n",
            "__________________________________________________________________________________________________\n",
            "max_pooling2d_1 (MaxPooling2D)  (None, 28, 28, 128)  0           batch_normalization_4[0][0]      \n",
            "__________________________________________________________________________________________________\n",
            "conv2d_2 (Conv2D)               (None, 28, 28, 128)  8320        add[0][0]                        \n",
            "__________________________________________________________________________________________________\n",
            "add_1 (Add)                     (None, 28, 28, 128)  0           max_pooling2d_1[0][0]            \n",
            "                                                                 conv2d_2[0][0]                   \n",
            "__________________________________________________________________________________________________\n",
            "activation_5 (Activation)       (None, 28, 28, 128)  0           add_1[0][0]                      \n",
            "__________________________________________________________________________________________________\n",
            "separable_conv2d_4 (SeparableCo (None, 28, 28, 256)  34176       activation_5[0][0]               \n",
            "__________________________________________________________________________________________________\n",
            "batch_normalization_5 (BatchNor (None, 28, 28, 256)  1024        separable_conv2d_4[0][0]         \n",
            "__________________________________________________________________________________________________\n",
            "activation_6 (Activation)       (None, 28, 28, 256)  0           batch_normalization_5[0][0]      \n",
            "__________________________________________________________________________________________________\n",
            "separable_conv2d_5 (SeparableCo (None, 28, 28, 256)  68096       activation_6[0][0]               \n",
            "__________________________________________________________________________________________________\n",
            "batch_normalization_6 (BatchNor (None, 28, 28, 256)  1024        separable_conv2d_5[0][0]         \n",
            "__________________________________________________________________________________________________\n",
            "max_pooling2d_2 (MaxPooling2D)  (None, 14, 14, 256)  0           batch_normalization_6[0][0]      \n",
            "__________________________________________________________________________________________________\n",
            "conv2d_3 (Conv2D)               (None, 14, 14, 256)  33024       add_1[0][0]                      \n",
            "__________________________________________________________________________________________________\n",
            "add_2 (Add)                     (None, 14, 14, 256)  0           max_pooling2d_2[0][0]            \n",
            "                                                                 conv2d_3[0][0]                   \n",
            "__________________________________________________________________________________________________\n",
            "activation_7 (Activation)       (None, 14, 14, 256)  0           add_2[0][0]                      \n",
            "__________________________________________________________________________________________________\n",
            "conv2d_transpose (Conv2DTranspo (None, 14, 14, 256)  590080      activation_7[0][0]               \n",
            "__________________________________________________________________________________________________\n",
            "batch_normalization_7 (BatchNor (None, 14, 14, 256)  1024        conv2d_transpose[0][0]           \n",
            "__________________________________________________________________________________________________\n",
            "activation_8 (Activation)       (None, 14, 14, 256)  0           batch_normalization_7[0][0]      \n",
            "__________________________________________________________________________________________________\n",
            "conv2d_transpose_1 (Conv2DTrans (None, 14, 14, 256)  590080      activation_8[0][0]               \n",
            "__________________________________________________________________________________________________\n",
            "batch_normalization_8 (BatchNor (None, 14, 14, 256)  1024        conv2d_transpose_1[0][0]         \n",
            "__________________________________________________________________________________________________\n",
            "up_sampling2d_1 (UpSampling2D)  (None, 28, 28, 256)  0           add_2[0][0]                      \n",
            "__________________________________________________________________________________________________\n",
            "up_sampling2d (UpSampling2D)    (None, 28, 28, 256)  0           batch_normalization_8[0][0]      \n",
            "__________________________________________________________________________________________________\n",
            "conv2d_4 (Conv2D)               (None, 28, 28, 256)  65792       up_sampling2d_1[0][0]            \n",
            "__________________________________________________________________________________________________\n",
            "add_3 (Add)                     (None, 28, 28, 256)  0           up_sampling2d[0][0]              \n",
            "                                                                 conv2d_4[0][0]                   \n",
            "__________________________________________________________________________________________________\n",
            "activation_9 (Activation)       (None, 28, 28, 256)  0           add_3[0][0]                      \n",
            "__________________________________________________________________________________________________\n",
            "conv2d_transpose_2 (Conv2DTrans (None, 28, 28, 128)  295040      activation_9[0][0]               \n",
            "__________________________________________________________________________________________________\n",
            "batch_normalization_9 (BatchNor (None, 28, 28, 128)  512         conv2d_transpose_2[0][0]         \n",
            "__________________________________________________________________________________________________\n",
            "activation_10 (Activation)      (None, 28, 28, 128)  0           batch_normalization_9[0][0]      \n",
            "__________________________________________________________________________________________________\n",
            "conv2d_transpose_3 (Conv2DTrans (None, 28, 28, 128)  147584      activation_10[0][0]              \n",
            "__________________________________________________________________________________________________\n",
            "batch_normalization_10 (BatchNo (None, 28, 28, 128)  512         conv2d_transpose_3[0][0]         \n",
            "__________________________________________________________________________________________________\n",
            "up_sampling2d_3 (UpSampling2D)  (None, 56, 56, 256)  0           add_3[0][0]                      \n",
            "__________________________________________________________________________________________________\n",
            "up_sampling2d_2 (UpSampling2D)  (None, 56, 56, 128)  0           batch_normalization_10[0][0]     \n",
            "__________________________________________________________________________________________________\n",
            "conv2d_5 (Conv2D)               (None, 56, 56, 128)  32896       up_sampling2d_3[0][0]            \n",
            "__________________________________________________________________________________________________\n",
            "add_4 (Add)                     (None, 56, 56, 128)  0           up_sampling2d_2[0][0]            \n",
            "                                                                 conv2d_5[0][0]                   \n",
            "__________________________________________________________________________________________________\n",
            "activation_11 (Activation)      (None, 56, 56, 128)  0           add_4[0][0]                      \n",
            "__________________________________________________________________________________________________\n",
            "conv2d_transpose_4 (Conv2DTrans (None, 56, 56, 64)   73792       activation_11[0][0]              \n",
            "__________________________________________________________________________________________________\n",
            "batch_normalization_11 (BatchNo (None, 56, 56, 64)   256         conv2d_transpose_4[0][0]         \n",
            "__________________________________________________________________________________________________\n",
            "activation_12 (Activation)      (None, 56, 56, 64)   0           batch_normalization_11[0][0]     \n",
            "__________________________________________________________________________________________________\n",
            "conv2d_transpose_5 (Conv2DTrans (None, 56, 56, 64)   36928       activation_12[0][0]              \n",
            "__________________________________________________________________________________________________\n",
            "batch_normalization_12 (BatchNo (None, 56, 56, 64)   256         conv2d_transpose_5[0][0]         \n",
            "__________________________________________________________________________________________________\n",
            "up_sampling2d_5 (UpSampling2D)  (None, 112, 112, 128 0           add_4[0][0]                      \n",
            "__________________________________________________________________________________________________\n",
            "up_sampling2d_4 (UpSampling2D)  (None, 112, 112, 64) 0           batch_normalization_12[0][0]     \n",
            "__________________________________________________________________________________________________\n",
            "conv2d_6 (Conv2D)               (None, 112, 112, 64) 8256        up_sampling2d_5[0][0]            \n",
            "__________________________________________________________________________________________________\n",
            "add_5 (Add)                     (None, 112, 112, 64) 0           up_sampling2d_4[0][0]            \n",
            "                                                                 conv2d_6[0][0]                   \n",
            "__________________________________________________________________________________________________\n",
            "activation_13 (Activation)      (None, 112, 112, 64) 0           add_5[0][0]                      \n",
            "__________________________________________________________________________________________________\n",
            "conv2d_transpose_6 (Conv2DTrans (None, 112, 112, 32) 18464       activation_13[0][0]              \n",
            "__________________________________________________________________________________________________\n",
            "batch_normalization_13 (BatchNo (None, 112, 112, 32) 128         conv2d_transpose_6[0][0]         \n",
            "__________________________________________________________________________________________________\n",
            "activation_14 (Activation)      (None, 112, 112, 32) 0           batch_normalization_13[0][0]     \n",
            "__________________________________________________________________________________________________\n",
            "conv2d_transpose_7 (Conv2DTrans (None, 112, 112, 32) 9248        activation_14[0][0]              \n",
            "__________________________________________________________________________________________________\n",
            "batch_normalization_14 (BatchNo (None, 112, 112, 32) 128         conv2d_transpose_7[0][0]         \n",
            "__________________________________________________________________________________________________\n",
            "up_sampling2d_7 (UpSampling2D)  (None, 224, 224, 64) 0           add_5[0][0]                      \n",
            "__________________________________________________________________________________________________\n",
            "up_sampling2d_6 (UpSampling2D)  (None, 224, 224, 32) 0           batch_normalization_14[0][0]     \n",
            "__________________________________________________________________________________________________\n",
            "conv2d_7 (Conv2D)               (None, 224, 224, 32) 2080        up_sampling2d_7[0][0]            \n",
            "__________________________________________________________________________________________________\n",
            "add_6 (Add)                     (None, 224, 224, 32) 0           up_sampling2d_6[0][0]            \n",
            "                                                                 conv2d_7[0][0]                   \n",
            "__________________________________________________________________________________________________\n",
            "conv2d_8 (Conv2D)               (None, 224, 224, 3)  867         add_6[0][0]                      \n",
            "==================================================================================================\n",
            "Total params: 2,058,979\n",
            "Trainable params: 2,055,203\n",
            "Non-trainable params: 3,776\n",
            "__________________________________________________________________________________________________\n"
          ]
        }
      ],
      "source": [
        "model.summary()"
      ]
    },
    {
      "cell_type": "code",
      "execution_count": null,
      "metadata": {
        "execution": {
          "iopub.execute_input": "2023-01-27T12:21:40.918691Z",
          "iopub.status.busy": "2023-01-27T12:21:40.917846Z",
          "iopub.status.idle": "2023-01-27T12:21:40.933887Z",
          "shell.execute_reply": "2023-01-27T12:21:40.932682Z",
          "shell.execute_reply.started": "2023-01-27T12:21:40.918644Z"
        },
        "id": "bkMhz0yr8uyz",
        "trusted": true
      },
      "outputs": [],
      "source": [
        "model.compile(\n",
        "    loss = tf.keras.losses.mean_squared_error,\n",
        "    optimizer = tf.keras.optimizers.Adam(),\n",
        "    metrics = ['accuracy']\n",
        ")"
      ]
    },
    {
      "cell_type": "code",
      "execution_count": null,
      "metadata": {
        "execution": {
          "iopub.execute_input": "2023-01-27T12:21:42.057811Z",
          "iopub.status.busy": "2023-01-27T12:21:42.056061Z",
          "iopub.status.idle": "2023-01-27T12:21:42.066473Z",
          "shell.execute_reply": "2023-01-27T12:21:42.065484Z",
          "shell.execute_reply.started": "2023-01-27T12:21:42.057763Z"
        },
        "id": "KZfoQH7x8uy0",
        "trusted": true
      },
      "outputs": [],
      "source": [
        "# early stopping \n",
        "early_stopping = callbacks.EarlyStopping(\n",
        "    monitor = 'val_loss',\n",
        "    min_delta = 0.001, # minimum amount of change to count as an improvement \n",
        "    patience = 7, # how many epochs to wait before stopping \n",
        "    restore_best_weights = True\n",
        ")"
      ]
    },
    {
      "cell_type": "code",
      "execution_count": null,
      "metadata": {
        "execution": {
          "iopub.execute_input": "2023-01-27T12:21:42.630926Z",
          "iopub.status.busy": "2023-01-27T12:21:42.630539Z",
          "iopub.status.idle": "2023-01-27T12:50:23.348031Z",
          "shell.execute_reply": "2023-01-27T12:50:23.347035Z",
          "shell.execute_reply.started": "2023-01-27T12:21:42.630894Z"
        },
        "id": "mXnbNFv18uy1",
        "outputId": "c98b316d-e72e-4ff3-f918-7945f054d924",
        "trusted": true
      },
      "outputs": [
        {
          "name": "stdout",
          "output_type": "stream",
          "text": [
            "Epoch 1/100\n"
          ]
        },
        {
          "name": "stderr",
          "output_type": "stream",
          "text": [
            "2023-01-27 12:21:48.598938: I tensorflow/stream_executor/cuda/cuda_dnn.cc:369] Loaded cuDNN version 8005\n"
          ]
        },
        {
          "name": "stdout",
          "output_type": "stream",
          "text": [
            "128/128 [==============================] - 67s 422ms/step - loss: 1472.7977 - accuracy: 0.8106 - val_loss: 13601.9365 - val_accuracy: 1.0000\n",
            "Epoch 2/100\n",
            "128/128 [==============================] - 53s 411ms/step - loss: 549.6786 - accuracy: 0.8300 - val_loss: 13601.9365 - val_accuracy: 1.0000\n",
            "Epoch 3/100\n",
            "128/128 [==============================] - 54s 419ms/step - loss: 415.3887 - accuracy: 0.8348 - val_loss: 13601.9365 - val_accuracy: 1.0000\n",
            "Epoch 4/100\n",
            "128/128 [==============================] - 53s 416ms/step - loss: 366.9096 - accuracy: 0.8375 - val_loss: 10047.0996 - val_accuracy: 0.9117\n",
            "Epoch 5/100\n",
            "128/128 [==============================] - 53s 416ms/step - loss: 327.8139 - accuracy: 0.8404 - val_loss: 515.1222 - val_accuracy: 0.8231\n",
            "Epoch 6/100\n",
            "128/128 [==============================] - 53s 418ms/step - loss: 300.5868 - accuracy: 0.8407 - val_loss: 347.2345 - val_accuracy: 0.8373\n",
            "Epoch 7/100\n",
            "128/128 [==============================] - 53s 416ms/step - loss: 272.5725 - accuracy: 0.8436 - val_loss: 1259.0216 - val_accuracy: 0.8043\n",
            "Epoch 8/100\n",
            "128/128 [==============================] - 53s 416ms/step - loss: 253.4917 - accuracy: 0.8443 - val_loss: 2445.8171 - val_accuracy: 0.7269\n",
            "Epoch 9/100\n",
            "128/128 [==============================] - 53s 415ms/step - loss: 249.3961 - accuracy: 0.8463 - val_loss: 289.1299 - val_accuracy: 0.8271\n",
            "Epoch 10/100\n",
            "128/128 [==============================] - 53s 416ms/step - loss: 225.7041 - accuracy: 0.8476 - val_loss: 322.4170 - val_accuracy: 0.8502\n",
            "Epoch 11/100\n",
            "128/128 [==============================] - 54s 418ms/step - loss: 216.5045 - accuracy: 0.8486 - val_loss: 254.4290 - val_accuracy: 0.8191\n",
            "Epoch 12/100\n",
            "128/128 [==============================] - 53s 416ms/step - loss: 204.9371 - accuracy: 0.8485 - val_loss: 437.7847 - val_accuracy: 0.8109\n",
            "Epoch 13/100\n",
            "128/128 [==============================] - 53s 416ms/step - loss: 191.9619 - accuracy: 0.8496 - val_loss: 295.0179 - val_accuracy: 0.8632\n",
            "Epoch 14/100\n",
            "128/128 [==============================] - 53s 416ms/step - loss: 191.2782 - accuracy: 0.8502 - val_loss: 308.6223 - val_accuracy: 0.8668\n",
            "Epoch 15/100\n",
            "128/128 [==============================] - 53s 416ms/step - loss: 181.0754 - accuracy: 0.8520 - val_loss: 266.4414 - val_accuracy: 0.8538\n",
            "Epoch 16/100\n",
            "128/128 [==============================] - 53s 416ms/step - loss: 174.8502 - accuracy: 0.8520 - val_loss: 248.4674 - val_accuracy: 0.8351\n",
            "Epoch 17/100\n",
            "128/128 [==============================] - 53s 417ms/step - loss: 168.2891 - accuracy: 0.8529 - val_loss: 258.9756 - val_accuracy: 0.8253\n",
            "Epoch 18/100\n",
            "128/128 [==============================] - 53s 417ms/step - loss: 164.4361 - accuracy: 0.8532 - val_loss: 262.2589 - val_accuracy: 0.8783\n",
            "Epoch 19/100\n",
            "128/128 [==============================] - 53s 416ms/step - loss: 161.8855 - accuracy: 0.8525 - val_loss: 288.9256 - val_accuracy: 0.8031\n",
            "Epoch 20/100\n",
            "128/128 [==============================] - 53s 416ms/step - loss: 159.7399 - accuracy: 0.8527 - val_loss: 276.4223 - val_accuracy: 0.8281\n",
            "Epoch 21/100\n",
            "128/128 [==============================] - 53s 415ms/step - loss: 153.1406 - accuracy: 0.8539 - val_loss: 238.4306 - val_accuracy: 0.8972\n",
            "Epoch 22/100\n",
            "128/128 [==============================] - 53s 416ms/step - loss: 149.3437 - accuracy: 0.8533 - val_loss: 230.0782 - val_accuracy: 0.8472\n",
            "Epoch 23/100\n",
            "128/128 [==============================] - 53s 415ms/step - loss: 143.6705 - accuracy: 0.8533 - val_loss: 254.1744 - val_accuracy: 0.8895\n",
            "Epoch 24/100\n",
            "128/128 [==============================] - 53s 416ms/step - loss: 150.2074 - accuracy: 0.8541 - val_loss: 296.7852 - val_accuracy: 0.8797\n",
            "Epoch 25/100\n",
            "128/128 [==============================] - 53s 416ms/step - loss: 150.9858 - accuracy: 0.8557 - val_loss: 226.6092 - val_accuracy: 0.8318\n",
            "Epoch 26/100\n",
            "128/128 [==============================] - 53s 417ms/step - loss: 136.8988 - accuracy: 0.8537 - val_loss: 252.6641 - val_accuracy: 0.8762\n",
            "Epoch 27/100\n",
            "128/128 [==============================] - 53s 417ms/step - loss: 136.9194 - accuracy: 0.8536 - val_loss: 248.0728 - val_accuracy: 0.8743\n",
            "Epoch 28/100\n",
            "128/128 [==============================] - 53s 416ms/step - loss: 133.9229 - accuracy: 0.8560 - val_loss: 243.3466 - val_accuracy: 0.8444\n",
            "Epoch 29/100\n",
            "128/128 [==============================] - 53s 416ms/step - loss: 130.2886 - accuracy: 0.8547 - val_loss: 233.5849 - val_accuracy: 0.8570\n",
            "Epoch 30/100\n",
            "128/128 [==============================] - 53s 417ms/step - loss: 135.4831 - accuracy: 0.8534 - val_loss: 244.7776 - val_accuracy: 0.8654\n",
            "Epoch 31/100\n",
            "128/128 [==============================] - 53s 416ms/step - loss: 126.3779 - accuracy: 0.8557 - val_loss: 236.8169 - val_accuracy: 0.8978\n",
            "Epoch 32/100\n",
            "128/128 [==============================] - 53s 417ms/step - loss: 129.7691 - accuracy: 0.8550 - val_loss: 237.4823 - val_accuracy: 0.8612\n"
          ]
        },
        {
          "data": {
            "text/plain": [
              "<keras.callbacks.History at 0x7fc2f0032f90>"
            ]
          },
          "execution_count": 19,
          "metadata": {},
          "output_type": "execute_result"
        }
      ],
      "source": [
        "model.fit(X,Y,batch_size = 32, epochs = 100,verbose = 1, callbacks =[early_stopping], validation_split = 0.2)"
      ]
    },
    {
      "cell_type": "code",
      "execution_count": null,
      "metadata": {
        "collapsed": true,
        "execution": {
          "iopub.execute_input": "2023-01-27T12:50:27.628183Z",
          "iopub.status.busy": "2023-01-27T12:50:27.627815Z"
        },
        "id": "0ceEQYEu8uy2",
        "jupyter": {
          "outputs_hidden": true
        },
        "outputId": "628d9798-1de8-4bf7-e92a-2200547dfe15",
        "trusted": true
      },
      "outputs": [],
      "source": [
        "!unzip -q /kaggle/input/carvana-image-masking-challenge/test.zip -d test"
      ]
    },
    {
      "cell_type": "code",
      "execution_count": null,
      "metadata": {
        "execution": {
          "iopub.execute_input": "2023-01-27T12:54:18.716019Z",
          "iopub.status.busy": "2023-01-27T12:54:18.715647Z",
          "iopub.status.idle": "2023-01-27T12:54:18.721166Z",
          "shell.execute_reply": "2023-01-27T12:54:18.719867Z",
          "shell.execute_reply.started": "2023-01-27T12:54:18.715989Z"
        },
        "id": "7Av41Wwv8uy3",
        "trusted": true
      },
      "outputs": [],
      "source": [
        "import random\n",
        "import matplotlib.pyplot as plt"
      ]
    },
    {
      "cell_type": "code",
      "execution_count": null,
      "metadata": {
        "execution": {
          "iopub.execute_input": "2023-01-27T12:54:19.988852Z",
          "iopub.status.busy": "2023-01-27T12:54:19.988377Z",
          "iopub.status.idle": "2023-01-27T12:54:22.211659Z",
          "shell.execute_reply": "2023-01-27T12:54:22.210491Z",
          "shell.execute_reply.started": "2023-01-27T12:54:19.988804Z"
        },
        "id": "wMdjVRTW8uy3",
        "outputId": "33ce3157-810e-46f4-ecec-2aab04b31ea1",
        "trusted": true
      },
      "outputs": [
        {
          "data": {
            "image/png": "[encoded data removed]",
            "text/plain": [
              "<Figure size 1440x720 with 12 Axes>"
            ]
          },
          "metadata": {
            "needs_background": "light"
          },
          "output_type": "display_data"
        }
      ],
      "source": [
        "plt.figure(figsize=(20,10))\n",
        "path = '/kaggle/working/test/test/'\n",
        "images = os.listdir(path)\n",
        "i = 1\n",
        "while i <= 12:\n",
        "    img = random.choice(images)\n",
        "    img = cv2.resize(cv2.imread(os.path.join(path, img)), (224,224), cv2.INTER_CUBIC)\n",
        "    img = np.expand_dims(img, axis=0)\n",
        "    out = model.predict(img)\n",
        "    ax = plt.subplot(3,4,i)  #(nrows, ncolumns, index)\n",
        "    plt.imshow(out[0], cmap = 'gray')\n",
        "    i += 1"
      ]
    },
    {
      "cell_type": "code",
      "execution_count": null,
      "metadata": {
        "id": "R4-3HsnU8uy7",
        "trusted": true
      },
      "outputs": [],
      "source": []
    },
    {
      "cell_type": "code",
      "execution_count": null,
      "metadata": {
        "id": "lRLKI7IU8uy8",
        "trusted": true
      },
      "outputs": [],
      "source": []
    },
    {
      "cell_type": "code",
      "execution_count": null,
      "metadata": {
        "id": "YiM1idtj8uy8"
      },
      "outputs": [],
      "source": []
    }
  ],
  "metadata": {
    "colab": {
      "provenance": []
    },
    "kernelspec": {
      "display_name": "Python 3",
      "language": "python",
      "name": "python3"
    },
    "language_info": {
      "codemirror_mode": {
        "name": "ipython",
        "version": 3
      },
      "file_extension": ".py",
      "mimetype": "text/x-python",
      "name": "python",
      "nbconvert_exporter": "python",
      "pygments_lexer": "ipython3",
      "version": "3.7.12"
    }
  },
  "nbformat": 4,
  "nbformat_minor": 0
}
